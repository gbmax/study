{
 "cells": [
  {
   "cell_type": "code",
   "execution_count": null,
   "id": "2b26920a-c152-4371-9a1c-c37c79e610a1",
   "metadata": {},
   "outputs": [],
   "source": [
    "import sklearn\n",
    "from preamble import *\n",
    "import matplotlib\n",
    "\n",
    "# 나눔 폰트를 사용합니다.\n",
    "matplotlib.rc('font', family='NanumBarunGothic')\n",
    "matplotlib.rcParams['axes.unicode_minus'] = False\n",
    "\n",
    "# 코랩에서 넘파이 경고를 나타내지 않기 위해\n",
    "import sys\n",
    "if 'google.colab' in sys.modules:\n",
    "    import warnings\n",
    "    warnings.filterwarnings(\"ignore\", category=np.VisibleDeprecationWarning)"
   ]
  },
  {
   "cell_type": "markdown",
   "id": "b1ef0750-0181-4cf5-af58-e946a3abf95b",
   "metadata": {},
   "source": [
    "### 2.3.8 커널 서포트 벡터 머신\n",
    "#### 선형 모델과 비선형 특성"
   ]
  },
  {
   "cell_type": "code",
   "execution_count": null,
   "id": "60b7793a-6318-46b4-9c4a-00679a87312b",
   "metadata": {},
   "outputs": [],
   "source": [
    "from sklearn.datasets import make_blobs\n",
    "X, y = make_blobs(centers=4, random_state=8)\n",
    "y = y % 2\n",
    "\n",
    "mglearn.discrete_scatter(X[:, 0], X[:, 1], y)\n",
    "plt.xlabel(\"특성 0\")\n",
    "plt.ylabel(\"특성 1\")\n"
   ]
  },
  {
   "cell_type": "code",
   "execution_count": null,
   "id": "763160e9-9be4-4359-9500-83109db4461f",
   "metadata": {},
   "outputs": [],
   "source": [
    "from sklearn.svm import LinearSVC\n",
    "linear_svm = LinearSVC(max_iter=5000, tol=1e-3).fit(X, y)\n",
    "\n",
    "mglearn.plots.plot_2d_separator(linear_svm, X)\n",
    "mglearn.discrete_scatter(X[:, 0], X[:, 1], y)\n",
    "plt.xlabel(\"특성 0\")\n",
    "plt.ylabel(\"특성 1\")\n"
   ]
  },
  {
   "cell_type": "code",
   "execution_count": null,
   "id": "c8bad73c-df6e-4825-9f70-063b03f4fc58",
   "metadata": {},
   "outputs": [],
   "source": [
    "# 두 번째 특성을 제곱하여 추가합니다\n",
    "X_new = np.hstack([X, X[:, 1:] ** 2])\n",
    "\n",
    "from mpl_toolkits.mplot3d import Axes3D, axes3d\n",
    "figure = plt.figure()\n",
    "# 3차원 그래프\n",
    "if matplotlib.__version__ >= '3.4':\n",
    "    # Axes3D가 자동으로 그림에 추가되는 방식은 matplotlib 3.4 버전에서 deprecated 되었습니다.\n",
    "    # 이와 관련된 경고를 피하려면 auto_add_to_figure=False로 지정하고 figure.add_axes(ax)로 직접 추가하세요.\n",
    "    ax = Axes3D(figure, elev=-152, azim=-26, auto_add_to_figure=False)\n",
    "    figure.add_axes(ax)\n",
    "else:\n",
    "    ax = Axes3D(figure, elev=-152, azim=-26)\n",
    "# y == 0 인 포인트를 먼저 그리고 그 다음 y == 1 인 포인트를 그립니다\n",
    "mask = y == 0\n",
    "ax.scatter(X_new[mask, 0], X_new[mask, 1], X_new[mask, 2], c='b',\n",
    "           cmap=mglearn.cm2, s=60, edgecolor='k')\n",
    "ax.scatter(X_new[~mask, 0], X_new[~mask, 1], X_new[~mask, 2], c='r', marker='^',\n",
    "           cmap=mglearn.cm2, s=60, edgecolor='k')\n",
    "ax.set_xlabel(\"특성0\")\n",
    "ax.set_ylabel(\"특성1\")\n",
    "ax.set_zlabel(\"특성1 ** 2\")\n"
   ]
  },
  {
   "cell_type": "code",
   "execution_count": null,
   "id": "b42157f0-9596-483e-89c0-e8fd5b0e43c8",
   "metadata": {},
   "outputs": [],
   "source": [
    "linear_svm_3d = LinearSVC(max_iter=5000).fit(X_new, y)\n",
    "coef, intercept = linear_svm_3d.coef_.ravel(), linear_svm_3d.intercept_\n",
    "\n",
    "# 선형 결정 경계 그리기\n",
    "figure = plt.figure()\n",
    "if matplotlib.__version__ >= '3.4':\n",
    "    # Axes3D가 자동으로 그림에 추가되는 방식은 matplotlib 3.4 버전에서 deprecated됩니다.\n",
    "    # 이와 관련된 경고를 피하려면 auto_add_to_figure=False로 지정하고 figure.add_axes(ax)로 직접 추가하세요.\n",
    "    ax = Axes3D(figure, elev=-152, azim=-26, auto_add_to_figure=False)\n",
    "    figure.add_axes(ax)\n",
    "else:\n",
    "    ax = Axes3D(figure, elev=-152, azim=-26)\n",
    "xx = np.linspace(X_new[:, 0].min() - 2, X_new[:, 0].max() + 2, 50)\n",
    "yy = np.linspace(X_new[:, 1].min() - 2, X_new[:, 1].max() + 2, 50)\n",
    "\n",
    "XX, YY = np.meshgrid(xx, yy)\n",
    "ZZ = (coef[0] * XX + coef[1] * YY + intercept) / -coef[2]\n",
    "ax.plot_surface(XX, YY, ZZ, rstride=8, cstride=8, alpha=0.3)\n",
    "ax.scatter(X_new[mask, 0], X_new[mask, 1], X_new[mask, 2], c='b',\n",
    "           cmap=mglearn.cm2, s=60, edgecolor='k')\n",
    "ax.scatter(X_new[~mask, 0], X_new[~mask, 1], X_new[~mask, 2], c='r', marker='^',\n",
    "           cmap=mglearn.cm2, s=60, edgecolor='k')\n",
    "\n",
    "ax.set_xlabel(\"특성0\")\n",
    "ax.set_ylabel(\"특성1\")\n",
    "ax.set_zlabel(\"특성1 ** 2\")\n"
   ]
  },
  {
   "cell_type": "code",
   "execution_count": null,
   "id": "82619322-6cd6-4f87-be36-31ecd8511523",
   "metadata": {},
   "outputs": [],
   "source": [
    "ZZ = YY ** 2\n",
    "dec = linear_svm_3d.decision_function(np.c_[XX.ravel(), YY.ravel(), ZZ.ravel()])\n",
    "plt.contourf(XX, YY, dec.reshape(XX.shape), levels=[dec.min(), 0, dec.max()],\n",
    "             cmap=mglearn.cm2, alpha=0.5)\n",
    "mglearn.discrete_scatter(X[:, 0], X[:, 1], y)\n",
    "plt.xlabel(\"특성 0\")\n",
    "plt.ylabel(\"특성 1\")\n"
   ]
  },
  {
   "cell_type": "markdown",
   "id": "12f04e18-9a32-4391-b528-06dea060ca4c",
   "metadata": {},
   "source": [
    "#### 커널 기법\n",
    "#### SVM 이해하기"
   ]
  },
  {
   "cell_type": "code",
   "execution_count": null,
   "id": "dced42f1-72ca-463d-a205-abdcf5751978",
   "metadata": {},
   "outputs": [],
   "source": [
    "from sklearn.svm import SVC\n",
    "\n",
    "X, y = mglearn.tools.make_handcrafted_dataset()\n",
    "svm = SVC(kernel='rbf', C=10, gamma=0.1).fit(X, y)\n",
    "mglearn.plots.plot_2d_separator(svm, X, eps=.5)\n",
    "# 데이터 포인트 그리기\n",
    "mglearn.discrete_scatter(X[:, 0], X[:, 1], y)\n",
    "# 서포트 벡터\n",
    "sv = svm.support_vectors_\n",
    "# dual_coef_ 의 부호에 의해 서포트 벡터의 클래스 레이블이 결정됩니다\n",
    "sv_labels = svm.dual_coef_.ravel() > 0\n",
    "mglearn.discrete_scatter(sv[:, 0], sv[:, 1], sv_labels, s=15, markeredgewidth=3)\n",
    "plt.xlabel(\"특성 0\")\n",
    "plt.ylabel(\"특성 1\")\n"
   ]
  },
  {
   "cell_type": "markdown",
   "id": "610adaf2-15d0-440b-a878-0cfa49c90898",
   "metadata": {},
   "source": [
    "#### SVM 매개변수 튜닝"
   ]
  },
  {
   "cell_type": "code",
   "execution_count": null,
   "id": "3171e306-9de8-4cb0-8377-bedf581a6041",
   "metadata": {
    "hide_input": false
   },
   "outputs": [],
   "source": [
    "fig, axes = plt.subplots(3, 3, figsize=(15, 10))\n",
    "\n",
    "for ax, C in zip(axes, [-1, 0, 3]):\n",
    "    for a, gamma in zip(ax, range(-1, 2)):\n",
    "        mglearn.plots.plot_svm(log_C=C, log_gamma=gamma, ax=a)\n",
    "\n",
    "axes[0, 0].legend([\"클래스 0\", \"클래스 1\", \"클래스 0 서포트 벡터\", \"클래스 1 서포트 벡터\"],\n",
    "                  ncol=4, loc=(.9, 1.2))\n"
   ]
  },
  {
   "cell_type": "markdown",
   "id": "b5b5796f-1304-4d73-976b-f621ae944a2d",
   "metadata": {},
   "source": [
    "사이킷런 0.20 버전에서 `SVC` 클래스의 `gamma` 매개변수 옵션에 `auto`외에 `scale`이 추가되었습니다. `auto`는 `1/n_features`, 즉 특성 개수의 역수입니다. `scale`은 `1/(n_features * X.std())`로 스케일 조정이 되지 않은 특성에서 더 좋은 결과를 만듭니다. 사이킷런 0.22 버전부터는 `gamma` 매개변수의 기본값이 `auto`에서 `scale`로 변경됩니다. 서포트 벡터 머신을 사용하기 전에 특성을 표준화 전처리하면 `scale`과 `auto`는 차이가 없습니다."
   ]
  },
  {
   "cell_type": "code",
   "execution_count": null,
   "id": "97d948a6-855e-4c16-979c-6c0b4903138a",
   "metadata": {
    "scrolled": true,
    "uuid": "19dca39b-9061-4fc6-9aab-f759854ec208"
   },
   "outputs": [],
   "source": [
    "from sklearn.datasets import load_breast_cancer\n",
    "\n",
    "cancer = load_breast_cancer()\n",
    "from sklearn.model_selection import train_test_split\n",
    "X_train, X_test, y_train, y_test = train_test_split(\n",
    "    cancer.data, cancer.target, random_state=0)\n",
    "\n",
    "svc = SVC()\n",
    "svc.fit(X_train, y_train)\n",
    "\n",
    "print(\"훈련 세트 정확도: {:.2f}\".format(svc.score(X_train, y_train)))\n",
    "print(\"테스트 세트 정확도: {:.2f}\".format(svc.score(X_test, y_test)))"
   ]
  },
  {
   "cell_type": "code",
   "execution_count": null,
   "id": "b76278a7-fbf8-43e7-aaa6-4a38693450b0",
   "metadata": {},
   "outputs": [],
   "source": [
    "plt.boxplot(X_train, manage_ticks=False)\n",
    "plt.yscale(\"symlog\")\n",
    "plt.xlabel(\"특성 목록\")\n",
    "plt.ylabel(\"특성 크기\")\n",
    "plt.show()"
   ]
  },
  {
   "cell_type": "markdown",
   "id": "5320593c-6f26-4101-811c-c453afac4fac",
   "metadata": {},
   "source": [
    "#### SVM 을 위한 데이터 전처리"
   ]
  },
  {
   "cell_type": "code",
   "execution_count": null,
   "id": "97da064d-f308-471d-aaca-5f55932047fc",
   "metadata": {},
   "outputs": [],
   "source": [
    "# 훈련 세트에서 특성별 최솟값 계산\n",
    "min_on_training = X_train.min(axis=0)\n",
    "# 훈련 세트에서 특성별 (최댓값 - 최솟값) 범위 계산\n",
    "range_on_training = (X_train - min_on_training).max(axis=0)\n",
    "\n",
    "# 훈련 데이터에 최솟값을 빼고 범위로 나누면\n",
    "# 각 특성에 대해 최솟값은 0 최댓값은 1 임\n",
    "X_train_scaled = (X_train - min_on_training) / range_on_training\n",
    "print(\"특성별 최솟값\\n\", X_train_scaled.min(axis=0))\n",
    "print(\"특성별 최댓값\\n\", X_train_scaled.max(axis=0))"
   ]
  },
  {
   "cell_type": "code",
   "execution_count": null,
   "id": "b30f8f3f-c198-4dc5-acf7-42b80fa60144",
   "metadata": {},
   "outputs": [],
   "source": [
    "# 테스트 세트에도 같은 작업을 적용하지만\n",
    "# 훈련 세트에서 계산한 최솟값과 범위를 사용합니다(자세한 내용은 3장에 있습니다)\n",
    "X_test_scaled = (X_test - min_on_training) / range_on_training"
   ]
  },
  {
   "cell_type": "code",
   "execution_count": null,
   "id": "99d88570-4e06-49e5-99fc-84b082eb0662",
   "metadata": {
    "scrolled": true,
    "tags": []
   },
   "outputs": [],
   "source": [
    "svc = SVC()\n",
    "svc.fit(X_train_scaled, y_train)\n",
    "\n",
    "print(\"훈련 세트 정확도: {:.3f}\".format(svc.score(X_train_scaled, y_train)))\n",
    "print(\"테스트 세트 정확도: {:.3f}\".format(svc.score(X_test_scaled, y_test)))"
   ]
  },
  {
   "cell_type": "code",
   "execution_count": null,
   "id": "2b9f854d-7212-46da-84df-4b60e5796a1f",
   "metadata": {},
   "outputs": [],
   "source": [
    "svc = SVC(C=20)\n",
    "svc.fit(X_train_scaled, y_train)\n",
    "\n",
    "print(\"훈련 세트 정확도: {:.3f}\".format(svc.score(X_train_scaled, y_train)))\n",
    "print(\"테스트 세트 정확도: {:.3f}\".format(svc.score(X_test_scaled, y_test)))"
   ]
  }
 ],
 "metadata": {
  "kernelspec": {
   "display_name": "ml",
   "language": "python",
   "name": "ml"
  },
  "language_info": {
   "codemirror_mode": {
    "name": "ipython",
    "version": 3
   },
   "file_extension": ".py",
   "mimetype": "text/x-python",
   "name": "python",
   "nbconvert_exporter": "python",
   "pygments_lexer": "ipython3",
   "version": "3.8.12"
  }
 },
 "nbformat": 4,
 "nbformat_minor": 5
}
