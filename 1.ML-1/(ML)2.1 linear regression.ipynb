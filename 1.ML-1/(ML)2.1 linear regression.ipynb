{
 "cells": [
  {
   "cell_type": "code",
   "execution_count": null,
   "id": "a751b799-10b8-4e3b-8ac0-233b23613391",
   "metadata": {
    "hide_input": false,
    "scrolled": true
   },
   "outputs": [],
   "source": [
    "import sklearn\n",
    "from preamble import *\n",
    "import matplotlib\n",
    "\n",
    "# 나눔 폰트를 사용합니다.\n",
    "matplotlib.rc('font', family='NanumBarunGothic')\n",
    "matplotlib.rcParams['axes.unicode_minus'] = False\n",
    "\n",
    "# 코랩에서 넘파이 경고를 나타내지 않기 위해\n",
    "import sys\n",
    "if 'google.colab' in sys.modules:\n",
    "    import warnings\n",
    "    warnings.filterwarnings(\"ignore\", category=np.VisibleDeprecationWarning)"
   ]
  },
  {
   "cell_type": "markdown",
   "id": "e70b7e80-7f94-43fa-bd39-b65ffe3961d5",
   "metadata": {},
   "source": [
    "## 2.1 분류와 회귀\n",
    "## 2.2 일반화, 과대적합, 과소적합\n",
    "### 2.2.1 모델 복잡도와 데이터셋 사이즈의 관계"
   ]
  },
  {
   "cell_type": "markdown",
   "id": "70c8e9e7-812c-4e9a-8c15-3b6d19abc044",
   "metadata": {},
   "source": [
    "## 2.3 지도 학습 알고리즘"
   ]
  },
  {
   "cell_type": "code",
   "execution_count": null,
   "id": "15642860-b49e-424f-a62e-f76f0fbec05a",
   "metadata": {
    "caption": "Forge dataset",
    "label": "forge_scatter"
   },
   "outputs": [],
   "source": [
    "# 데이터셋을 만듭니다\n",
    "X, y = mglearn.datasets.make_forge()\n",
    "# 산점도를 그립니다\n",
    "mglearn.discrete_scatter(X[:, 0], X[:, 1], y)\n",
    "plt.legend([\"클래스 0\", \"클래스 1\"], loc='best')\n",
    "plt.xlabel(\"첫 번째 특성\")\n",
    "plt.ylabel(\"두 번째 특성\")\n",
    "print(\"X.shape:\", X.shape)\n"
   ]
  },
  {
   "cell_type": "code",
   "execution_count": null,
   "id": "039931c1-e478-4e19-8121-9c2e85513566",
   "metadata": {},
   "outputs": [],
   "source": [
    "X, y = mglearn.datasets.make_wave(n_samples=40)\n",
    "plt.plot(X, y, 'o')\n",
    "plt.ylim(-3, 3)\n",
    "plt.xlabel(\"특성\")\n",
    "plt.ylabel(\"타깃\")\n"
   ]
  },
  {
   "cell_type": "code",
   "execution_count": null,
   "id": "eef7f2fd-4819-4904-8dd5-1c9dddd803c6",
   "metadata": {},
   "outputs": [],
   "source": [
    "from sklearn.datasets import load_breast_cancer\n",
    "cancer = load_breast_cancer()\n",
    "print(\"cancer.keys():\\n\", cancer.keys())"
   ]
  },
  {
   "cell_type": "code",
   "execution_count": null,
   "id": "6f06ebea-e698-48e2-a70f-1aa651bba079",
   "metadata": {},
   "outputs": [],
   "source": [
    "print(\"유방암 데이터의 형태:\", cancer.data.shape)"
   ]
  },
  {
   "cell_type": "code",
   "execution_count": null,
   "id": "6e0b90dc-ffa6-449e-b283-fd6e5dddb6f3",
   "metadata": {},
   "outputs": [],
   "source": [
    "print(\"클래스별 샘플 갯수:\\n\",\n",
    "      {n: v for n, v in zip(cancer.target_names, np.bincount(cancer.target))})"
   ]
  },
  {
   "cell_type": "code",
   "execution_count": null,
   "id": "22e6c401-b513-4944-8ced-d22461df2be8",
   "metadata": {},
   "outputs": [],
   "source": [
    "print(\"특성 이름:\\n\", cancer.feature_names)"
   ]
  },
  {
   "cell_type": "code",
   "execution_count": null,
   "id": "ac8ffe0f-7b3c-4520-9ff3-6400b68952d0",
   "metadata": {},
   "outputs": [],
   "source": [
    "# 경고 메시지를 피하기 위해 다음 코드를 추가합니다.\n",
    "import warnings\n",
    "warnings.filterwarnings(\"ignore\", category=FutureWarning)\n",
    "\n",
    "from sklearn.datasets import load_boston\n",
    "boston = load_boston()\n",
    "print(\"데이터의 형태:\", boston.data.shape)\n",
    "print(boston.feature_names)"
   ]
  },
  {
   "cell_type": "code",
   "execution_count": null,
   "id": "c57da37f-fd63-4d06-8529-ae6eae3f7f58",
   "metadata": {},
   "outputs": [],
   "source": [
    "X, y = mglearn.datasets.load_extended_boston()\n",
    "print(\"X.shape:\", X.shape)"
   ]
  },
  {
   "cell_type": "markdown",
   "id": "13db8896-ffd0-4d69-b36f-59bdc088b50c",
   "metadata": {},
   "source": [
    "### 2.3.2 k-최근접 이웃\n",
    "#### k-최근접 이웃 분류"
   ]
  },
  {
   "cell_type": "code",
   "execution_count": null,
   "id": "dee8dc13-dc29-4e11-923b-837015b11bfa",
   "metadata": {
    "hide_input": false
   },
   "outputs": [],
   "source": [
    "mglearn.plots.plot_knn_classification(n_neighbors=1)"
   ]
  },
  {
   "cell_type": "code",
   "execution_count": null,
   "id": "cf6a9268-6db1-4fa0-9851-29231979d414",
   "metadata": {
    "hide_input": false
   },
   "outputs": [],
   "source": [
    "mglearn.plots.plot_knn_classification(n_neighbors=3)"
   ]
  },
  {
   "cell_type": "code",
   "execution_count": null,
   "id": "fd896bbf-59d1-41d0-8801-42e27aa49154",
   "metadata": {},
   "outputs": [],
   "source": [
    "from sklearn.model_selection import train_test_split\n",
    "X, y = mglearn.datasets.make_forge()\n",
    "\n",
    "X_train, X_test, y_train, y_test = train_test_split(X, y, random_state=0)"
   ]
  },
  {
   "cell_type": "code",
   "execution_count": null,
   "id": "ebc39f02-c453-491b-b5d3-9f7a58410289",
   "metadata": {},
   "outputs": [],
   "source": [
    "from sklearn.neighbors import KNeighborsClassifier\n",
    "clf = KNeighborsClassifier(n_neighbors=3)"
   ]
  },
  {
   "cell_type": "code",
   "execution_count": null,
   "id": "a639b7d4-e753-4ca7-83d0-259b466cf209",
   "metadata": {},
   "outputs": [],
   "source": [
    "clf.fit(X_train, y_train)"
   ]
  },
  {
   "cell_type": "code",
   "execution_count": null,
   "id": "8658e8f9-de22-4bda-82ce-b43a47006ff3",
   "metadata": {},
   "outputs": [],
   "source": [
    "print(\"테스트 세트 예측:\", clf.predict(X_test))"
   ]
  },
  {
   "cell_type": "code",
   "execution_count": null,
   "id": "0b5a1b89-abc6-490d-9431-1c1e474e1919",
   "metadata": {},
   "outputs": [],
   "source": [
    "print(\"테스트 세트 정확도: {:.2f}\".format(clf.score(X_test, y_test)))"
   ]
  },
  {
   "cell_type": "markdown",
   "id": "67a84132-7ead-423e-b9a1-27437effc1a8",
   "metadata": {},
   "source": [
    "#### KNeighborsClassifier 분석"
   ]
  },
  {
   "cell_type": "code",
   "execution_count": null,
   "id": "aba56622-90ce-42c0-934a-547452002f75",
   "metadata": {
    "hide_input": false
   },
   "outputs": [],
   "source": [
    "fig, axes = plt.subplots(1, 3, figsize=(10, 3))\n",
    "\n",
    "for n_neighbors, ax in zip([1, 3, 9], axes):\n",
    "    # fit 메소드는 self 오브젝트를 리턴합니다\n",
    "    # 그래서 객체 생성과 fit 메소드를 한 줄에 쓸 수 있습니다\n",
    "    clf = KNeighborsClassifier(n_neighbors=n_neighbors).fit(X, y)\n",
    "    mglearn.plots.plot_2d_separator(clf, X, fill=True, eps=0.5, ax=ax, alpha=.4)\n",
    "    mglearn.discrete_scatter(X[:, 0], X[:, 1], y, ax=ax)\n",
    "    ax.set_title(\"{} 이웃\".format(n_neighbors))\n",
    "    ax.set_xlabel(\"특성 0\")\n",
    "    ax.set_ylabel(\"특성 1\")\n",
    "axes[0].legend(loc=3)\n"
   ]
  },
  {
   "cell_type": "code",
   "execution_count": null,
   "id": "20afedf5-2c84-438e-a168-63d1e7afd009",
   "metadata": {},
   "outputs": [],
   "source": [
    "from sklearn.datasets import load_breast_cancer\n",
    "\n",
    "cancer = load_breast_cancer()\n",
    "X_train, X_test, y_train, y_test = train_test_split(\n",
    "    cancer.data, cancer.target, stratify=cancer.target, random_state=66)\n",
    "\n",
    "training_accuracy = []\n",
    "test_accuracy = []\n",
    "# 1 에서 10 까지 n_neighbors 를 적용\n",
    "neighbors_settings = range(1, 11)\n",
    "\n",
    "for n_neighbors in neighbors_settings:\n",
    "    # 모델 생성\n",
    "    clf = KNeighborsClassifier(n_neighbors=n_neighbors)\n",
    "    clf.fit(X_train, y_train)\n",
    "    # 훈련 세트 정확도 저장\n",
    "    training_accuracy.append(clf.score(X_train, y_train))\n",
    "    # 일반화 정확도 저장\n",
    "    test_accuracy.append(clf.score(X_test, y_test))\n",
    "\n",
    "plt.plot(neighbors_settings, training_accuracy, label=\"훈련 정확도\")\n",
    "plt.plot(neighbors_settings, test_accuracy, label=\"테스트 정확도\")\n",
    "plt.ylabel(\"정확도\")\n",
    "plt.xlabel(\"n_neighbors\")\n",
    "plt.legend()\n"
   ]
  },
  {
   "cell_type": "markdown",
   "id": "48ab5e18-d991-4466-af8c-456dcc503377",
   "metadata": {},
   "source": [
    "#### k-최근접 이웃 회귀 - 이웃 값의 평균을 취함."
   ]
  },
  {
   "cell_type": "code",
   "execution_count": null,
   "id": "ced85e9e-e81e-42d3-83c5-209c1a79d27c",
   "metadata": {
    "hide_input": false
   },
   "outputs": [],
   "source": [
    "mglearn.plots.plot_knn_regression(n_neighbors=1)"
   ]
  },
  {
   "cell_type": "code",
   "execution_count": null,
   "id": "91a472ee-846f-4b92-b08a-9063dc3b9dc8",
   "metadata": {
    "hide_input": false
   },
   "outputs": [],
   "source": [
    "mglearn.plots.plot_knn_regression(n_neighbors=3)"
   ]
  },
  {
   "cell_type": "code",
   "execution_count": null,
   "id": "1e1edabd-2486-437d-bf48-ecae8de8e34d",
   "metadata": {},
   "outputs": [],
   "source": [
    "from sklearn.neighbors import KNeighborsRegressor\n",
    "\n",
    "X, y = mglearn.datasets.make_wave(n_samples=40)\n",
    "\n",
    "# wave 데이터셋을 훈련 세트와 테스트 세트로 나눕니다\n",
    "X_train, X_test, y_train, y_test = train_test_split(X, y, random_state=0)\n",
    "\n",
    "# 이웃의 수를 3으로 하여 모델의 객체를 만듭니다\n",
    "reg = KNeighborsRegressor(n_neighbors=3)\n",
    "# 훈련 데이터와 타깃을 사용하여 모델을 학습시킵니다\n",
    "reg.fit(X_train, y_train)"
   ]
  },
  {
   "cell_type": "code",
   "execution_count": null,
   "id": "481591be-a3d7-41e9-a418-b29a9c32e239",
   "metadata": {},
   "outputs": [],
   "source": [
    "print(\"테스트 세트 예측:\\n\", reg.predict(X_test))"
   ]
  },
  {
   "cell_type": "code",
   "execution_count": null,
   "id": "b9dd730a-32b1-4e16-9ced-975e0a8e69ce",
   "metadata": {},
   "outputs": [],
   "source": [
    "print(\"테스트 세트 R^2: {:.2f}\".format(reg.score(X_test, y_test)))"
   ]
  },
  {
   "cell_type": "markdown",
   "id": "0b0e2084-56c3-4849-9980-84dff3eaa68e",
   "metadata": {},
   "source": [
    "#### KNeighborsRegressor 분석"
   ]
  },
  {
   "cell_type": "code",
   "execution_count": null,
   "id": "00174193-d39b-4c05-91fa-4a1783c90f76",
   "metadata": {},
   "outputs": [],
   "source": [
    "fig, axes = plt.subplots(1, 3, figsize=(15, 4))\n",
    "# -3 과 3 사이에 1,000 개의 데이터 포인트를 만듭니다\n",
    "line = np.linspace(-3, 3, 1000).reshape(-1, 1)\n",
    "for n_neighbors, ax in zip([1, 3, 9], axes):\n",
    "    # 1, 3, 9 이웃을 사용한 예측을 합니다\n",
    "    reg = KNeighborsRegressor(n_neighbors=n_neighbors)\n",
    "    reg.fit(X_train, y_train)\n",
    "    ax.plot(line, reg.predict(line))\n",
    "    ax.plot(X_train, y_train, '^', c=mglearn.cm2(0), markersize=8)\n",
    "    ax.plot(X_test, y_test, 'v', c=mglearn.cm2(1), markersize=8)\n",
    "\n",
    "    ax.set_title(\n",
    "        \"{} 이웃의 훈련 스코어: {:.2f} 테스트 스코어: {:.2f}\".format(\n",
    "            n_neighbors, reg.score(X_train, y_train), reg.score(X_test, y_test)))\n",
    "    ax.set_xlabel(\"특성\")\n",
    "    ax.set_ylabel(\"타깃\")\n",
    "axes[0].legend([\"모델 예측\", \"훈련 데이터/타깃\", \"테스트 데이터/타깃\"], loc=\"best\")\n"
   ]
  },
  {
   "cell_type": "markdown",
   "id": "a61433f9-601c-4b83-9b06-7605c819e5eb",
   "metadata": {},
   "source": [
    "#### 장단점과 매개변수"
   ]
  },
  {
   "cell_type": "markdown",
   "id": "2dff0ba5-d706-4c3e-b011-23ad258e9899",
   "metadata": {},
   "source": [
    "### 2.3.3. 선형 모델\n",
    "#### 회귀의 선형 모델"
   ]
  },
  {
   "cell_type": "code",
   "execution_count": null,
   "id": "72d5f5e7-2655-48d2-b329-f686eef14424",
   "metadata": {
    "hide_input": false
   },
   "outputs": [],
   "source": [
    "mglearn.plots.plot_linear_regression_wave()"
   ]
  },
  {
   "cell_type": "markdown",
   "id": "fa02d5d1-e5a3-43ab-9e1c-d118e251e1b6",
   "metadata": {},
   "source": [
    "#### 선형 회귀(최소제곱법)"
   ]
  },
  {
   "cell_type": "code",
   "execution_count": null,
   "id": "e6dfcb7d-dfc2-4cc7-b374-203552a8bacf",
   "metadata": {},
   "outputs": [],
   "source": [
    "from sklearn.linear_model import LinearRegression\n",
    "X, y = mglearn.datasets.make_wave(n_samples=60)\n",
    "X_train, X_test, y_train, y_test = train_test_split(X, y, random_state=42)\n",
    "\n",
    "lr = LinearRegression().fit(X_train, y_train)"
   ]
  },
  {
   "cell_type": "code",
   "execution_count": null,
   "id": "54936a71-12fd-4486-bac5-32375b25d605",
   "metadata": {},
   "outputs": [],
   "source": [
    "print(\"lr.coef_:\", lr.coef_)\n",
    "print(\"lr.intercept_:\", lr.intercept_)"
   ]
  },
  {
   "cell_type": "code",
   "execution_count": null,
   "id": "0961b03e-47e4-4f99-9368-4b1eabe3fc50",
   "metadata": {},
   "outputs": [],
   "source": [
    "print(\"훈련 세트 점수: {:.2f}\".format(lr.score(X_train, y_train)))\n",
    "print(\"테스트 세트 점수: {:.2f}\".format(lr.score(X_test, y_test)))"
   ]
  },
  {
   "cell_type": "code",
   "execution_count": null,
   "id": "4bfb3bd5-e8d2-4d54-a5c4-7ab935640ba4",
   "metadata": {},
   "outputs": [],
   "source": [
    "# 훈련세트점수 0.67 : 좋지않은 성능, 0.66 : 과소적합 의미\n"
   ]
  },
  {
   "cell_type": "code",
   "execution_count": null,
   "id": "ad4ad7c5-57d9-488c-af46-c6c2025d46d8",
   "metadata": {},
   "outputs": [],
   "source": [
    "X, y = mglearn.datasets.load_extended_boston()\n",
    "\n",
    "X_train, X_test, y_train, y_test = train_test_split(X, y, random_state=0)\n",
    "lr = LinearRegression().fit(X_train, y_train)"
   ]
  },
  {
   "cell_type": "code",
   "execution_count": null,
   "id": "45e5acd1-49d4-445e-a2b9-4be800cfae4d",
   "metadata": {},
   "outputs": [],
   "source": [
    "print(\"훈련 세트 점수: {:.2f}\".format(lr.score(X_train, y_train)))\n",
    "print(\"테스트 세트 점수: {:.2f}\".format(lr.score(X_test, y_test)))"
   ]
  },
  {
   "cell_type": "markdown",
   "id": "c0afcc69-784b-4d46-82e6-26fe3dbe20b6",
   "metadata": {},
   "source": [
    "#### 리지 회귀"
   ]
  },
  {
   "cell_type": "code",
   "execution_count": null,
   "id": "51159226-9a6c-45f1-bbe9-5edb215e8381",
   "metadata": {},
   "outputs": [],
   "source": [
    "from sklearn.linear_model import Ridge\n",
    "\n",
    "ridge = Ridge().fit(X_train, y_train)\n",
    "print(\"훈련 세트 점수: {:.2f}\".format(ridge.score(X_train, y_train)))\n",
    "print(\"테스트 세트 점수: {:.2f}\".format(ridge.score(X_test, y_test)))"
   ]
  },
  {
   "cell_type": "code",
   "execution_count": null,
   "id": "dcc4a985-8479-48be-b808-6933245bb810",
   "metadata": {
    "scrolled": true
   },
   "outputs": [],
   "source": [
    "ridge10 = Ridge(alpha=10).fit(X_train, y_train)\n",
    "print(\"훈련 세트 점수: {:.2f}\".format(ridge10.score(X_train, y_train)))\n",
    "print(\"테스트 세트 점수: {:.2f}\".format(ridge10.score(X_test, y_test)))"
   ]
  },
  {
   "cell_type": "code",
   "execution_count": null,
   "id": "6a508b6b-66ba-4758-adf8-9f65a48dffd3",
   "metadata": {},
   "outputs": [],
   "source": [
    "ridge01 = Ridge(alpha=0.1).fit(X_train, y_train)\n",
    "print(\"훈련 세트 점수: {:.2f}\".format(ridge01.score(X_train, y_train)))\n",
    "print(\"테스트 세트 점수: {:.2f}\".format(ridge01.score(X_test, y_test)))"
   ]
  },
  {
   "cell_type": "code",
   "execution_count": null,
   "id": "c903f9df-d34f-4900-81e3-5cf56ec58226",
   "metadata": {},
   "outputs": [],
   "source": [
    "plt.plot(ridge10.coef_, '^', label=\"Ridge alpha=10\")\n",
    "plt.plot(ridge.coef_, 's', label=\"Ridge alpha=1\")\n",
    "plt.plot(ridge01.coef_, 'v', label=\"Ridge alpha=0.1\")\n",
    "\n",
    "plt.plot(lr.coef_, 'o', label=\"LinearRegression\")\n",
    "plt.xlabel(\"계수 목록\")\n",
    "plt.ylabel(\"계수 크기\")\n",
    "xlims = plt.xlim()\n",
    "plt.hlines(0, xlims[0], xlims[1])\n",
    "plt.xlim(xlims)\n",
    "plt.ylim(-25, 25)\n",
    "plt.legend()\n"
   ]
  },
  {
   "cell_type": "code",
   "execution_count": null,
   "id": "b0f7b8bb-f6db-445a-bb67-cf1c74781e61",
   "metadata": {},
   "outputs": [],
   "source": [
    "mglearn.plots.plot_ridge_n_samples()"
   ]
  },
  {
   "cell_type": "markdown",
   "id": "57dced4d-a7c4-427e-8de3-b829cec24e78",
   "metadata": {},
   "source": [
    "#### 라소"
   ]
  },
  {
   "cell_type": "code",
   "execution_count": null,
   "id": "726329e4-6c09-44dc-817a-fc9028e23125",
   "metadata": {},
   "outputs": [],
   "source": [
    "from sklearn.linear_model import Lasso\n",
    "\n",
    "lasso = Lasso().fit(X_train, y_train)\n",
    "print(\"훈련 세트 점수: {:.2f}\".format(lasso.score(X_train, y_train)))\n",
    "print(\"테스트 세트 점수: {:.2f}\".format(lasso.score(X_test, y_test)))\n",
    "print(\"사용한 특성의 개수:\", np.sum(lasso.coef_ != 0))"
   ]
  },
  {
   "cell_type": "code",
   "execution_count": null,
   "id": "1d30fcf0-cb56-43ce-9be2-9b197cd39971",
   "metadata": {},
   "outputs": [],
   "source": [
    "# max_iter 기본 값을 증가시키지 않으면 max_iter 값을 늘이라는 경고가 발생합니다\n",
    "lasso001 = Lasso(alpha=0.01, max_iter=50000).fit(X_train, y_train)\n",
    "print(\"훈련 세트 점수: {:.2f}\".format(lasso001.score(X_train, y_train)))\n",
    "print(\"테스트 세트 점수: {:.2f}\".format(lasso001.score(X_test, y_test)))\n",
    "print(\"사용한 특성의 개수:\", np.sum(lasso001.coef_ != 0))"
   ]
  },
  {
   "cell_type": "code",
   "execution_count": null,
   "id": "0f0e0c3b-3acd-4eb8-9fe5-b2f3de98b26c",
   "metadata": {},
   "outputs": [],
   "source": [
    "lasso00001 = Lasso(alpha=0.0001, max_iter=50000).fit(X_train, y_train)\n",
    "print(\"훈련 세트 점수: {:.2f}\".format(lasso00001.score(X_train, y_train)))\n",
    "print(\"테스트 세트 점수: {:.2f}\".format(lasso00001.score(X_test, y_test)))\n",
    "print(\"사용한 특성의 개수:\", np.sum(lasso00001.coef_ != 0))"
   ]
  },
  {
   "cell_type": "code",
   "execution_count": null,
   "id": "67e5851e-033b-46d5-9a37-31eb25bbe414",
   "metadata": {},
   "outputs": [],
   "source": [
    "plt.plot(lasso.coef_, 's', label=\"Lasso alpha=1\")\n",
    "plt.plot(lasso001.coef_, '^', label=\"Lasso alpha=0.01\")\n",
    "plt.plot(lasso00001.coef_, 'v', label=\"Lasso alpha=0.0001\")\n",
    "\n",
    "plt.plot(ridge01.coef_, 'o', label=\"Ridge alpha=0.1\")\n",
    "plt.legend(ncol=2, loc=(0, 1.05))\n",
    "plt.ylim(-25, 25)\n",
    "plt.xlabel(\"계수 목록\")\n",
    "plt.ylabel(\"계수 크기\")\n"
   ]
  },
  {
   "cell_type": "markdown",
   "id": "40f0c73a-e123-44a3-9355-02ba34363992",
   "metadata": {},
   "source": [
    "#### 분류용 선형 모델"
   ]
  },
  {
   "cell_type": "code",
   "execution_count": null,
   "id": "56cdc265-90d6-49c8-88e8-bdcbafb6bdcd",
   "metadata": {},
   "outputs": [],
   "source": [
    "from sklearn.linear_model import LogisticRegression\n",
    "from sklearn.svm import LinearSVC\n",
    "\n",
    "X, y = mglearn.datasets.make_forge()\n",
    "\n",
    "fig, axes = plt.subplots(1, 2, figsize=(10, 3))\n",
    "\n",
    "for model, ax in zip([LinearSVC(max_iter=5000), LogisticRegression()], axes):\n",
    "    clf = model.fit(X, y)\n",
    "    mglearn.plots.plot_2d_separator(clf, X, fill=False, eps=0.5,\n",
    "                                    ax=ax, alpha=.7)\n",
    "    mglearn.discrete_scatter(X[:, 0], X[:, 1], y, ax=ax)\n",
    "    ax.set_title(clf.__class__.__name__)\n",
    "    ax.set_xlabel(\"특성 0\")\n",
    "    ax.set_ylabel(\"특성 1\")\n",
    "axes[0].legend()\n"
   ]
  },
  {
   "cell_type": "code",
   "execution_count": null,
   "id": "55c9125b-8c6a-4f31-96b9-a312cb81d513",
   "metadata": {
    "hide_input": false
   },
   "outputs": [],
   "source": [
    "mglearn.plots.plot_linear_svc_regularization()"
   ]
  },
  {
   "cell_type": "code",
   "execution_count": null,
   "id": "91c872ed-4204-47ab-9532-ae91d218fc5e",
   "metadata": {},
   "outputs": [],
   "source": [
    "from sklearn.datasets import load_breast_cancer\n",
    "cancer = load_breast_cancer()\n",
    "X_train, X_test, y_train, y_test = train_test_split(\n",
    "    cancer.data, cancer.target, stratify=cancer.target, random_state=42)\n",
    "logreg = LogisticRegression(max_iter=5000).fit(X_train, y_train)\n",
    "print(\"훈련 세트 점수: {:.3f}\".format(logreg.score(X_train, y_train)))\n",
    "print(\"테스트 세트 점수: {:.3f}\".format(logreg.score(X_test, y_test)))"
   ]
  },
  {
   "cell_type": "code",
   "execution_count": null,
   "id": "189501f0-fdc0-4258-93ba-ccc3ceae48fd",
   "metadata": {},
   "outputs": [],
   "source": [
    "logreg100 = LogisticRegression(C=100, max_iter=5000).fit(X_train, y_train)\n",
    "print(\"훈련 세트 점수: {:.3f}\".format(logreg100.score(X_train, y_train)))\n",
    "print(\"테스트 세트 점수: {:.3f}\".format(logreg100.score(X_test, y_test)))"
   ]
  },
  {
   "cell_type": "code",
   "execution_count": null,
   "id": "88244d8b-6dbf-4076-bbf3-688fcc9b1850",
   "metadata": {
    "scrolled": true
   },
   "outputs": [],
   "source": [
    "logreg001 = LogisticRegression(C=0.01, max_iter=5000).fit(X_train, y_train)\n",
    "print(\"훈련 세트 점수: {:.3f}\".format(logreg001.score(X_train, y_train)))\n",
    "print(\"테스트 세트 점수: {:.3f}\".format(logreg001.score(X_test, y_test)))"
   ]
  },
  {
   "cell_type": "code",
   "execution_count": null,
   "id": "c99bf9c8-805c-4f27-952f-34d230dfc6f0",
   "metadata": {},
   "outputs": [],
   "source": [
    "plt.plot(logreg100.coef_.T, '^', label=\"C=100\")\n",
    "plt.plot(logreg.coef_.T, 'o', label=\"C=1\")\n",
    "plt.plot(logreg001.coef_.T, 'v', label=\"C=0.001\")\n",
    "plt.xticks(range(cancer.data.shape[1]), cancer.feature_names, rotation=90)\n",
    "xlims = plt.xlim()\n",
    "plt.hlines(0, xlims[0], xlims[1])\n",
    "plt.xlim(xlims)\n",
    "plt.ylim(-5, 5)\n",
    "plt.xlabel(\"특성\")\n",
    "plt.ylabel(\"계수 크기\")\n",
    "plt.legend()\n"
   ]
  },
  {
   "cell_type": "markdown",
   "id": "e8e06dab-8c01-4a9d-8b2f-f6d4391fc0a1",
   "metadata": {},
   "source": [
    "사이킷런 0.22 버전부터는 `LogisticRegression`의 `solver` 매개변수 기본값이 `lbfgs`로 변경되었습니다. `lbfgs`는 L1 규제를 지원하지 않습니다. 따라서 `solver` 매개변수를 `liblinear`로 지정합니다."
   ]
  },
  {
   "cell_type": "code",
   "execution_count": null,
   "id": "5d02eec8-9fc8-4a60-ae9e-3492a424565b",
   "metadata": {},
   "outputs": [],
   "source": [
    "for C, marker in zip([0.001, 1, 100], ['o', '^', 'v']):\n",
    "    lr_l1 = LogisticRegression(solver='liblinear', C=C, penalty=\"l1\", max_iter=1000).fit(X_train, y_train)\n",
    "    print(\"C={:.3f} 인 l1 로지스틱 회귀의 훈련 정확도: {:.2f}\".format(\n",
    "          C, lr_l1.score(X_train, y_train)))\n",
    "    print(\"C={:.3f} 인 l1 로지스틱 회귀의 테스트 정확도: {:.2f}\".format(\n",
    "          C, lr_l1.score(X_test, y_test)))\n",
    "    plt.plot(lr_l1.coef_.T, marker, label=\"C={:.3f}\".format(C))\n",
    "\n",
    "plt.xticks(range(cancer.data.shape[1]), cancer.feature_names, rotation=90)\n",
    "xlims = plt.xlim()\n",
    "plt.hlines(0, xlims[0], xlims[1])\n",
    "plt.xlim(xlims)\n",
    "plt.xlabel(\"특성\")\n",
    "plt.ylabel(\"계수 크기\")\n",
    "\n",
    "plt.ylim(-5, 5)\n",
    "plt.legend(loc=3)\n"
   ]
  },
  {
   "cell_type": "markdown",
   "id": "ab7c0cbd-8c92-4e4d-bff8-1f03b19a0d22",
   "metadata": {},
   "source": [
    "#### 다중 클래스 분류용 선형 모델"
   ]
  },
  {
   "cell_type": "code",
   "execution_count": null,
   "id": "4eb8c99f-a376-4e3d-a884-a53304498966",
   "metadata": {},
   "outputs": [],
   "source": [
    "from sklearn.datasets import make_blobs\n",
    "\n",
    "X, y = make_blobs(random_state=42)\n",
    "mglearn.discrete_scatter(X[:, 0], X[:, 1], y)\n",
    "plt.xlabel(\"특성 0\")\n",
    "plt.ylabel(\"특성 1\")\n",
    "plt.legend([\"클래스 0\", \"클래스 1\", \"클래스 2\"])\n"
   ]
  },
  {
   "cell_type": "code",
   "execution_count": null,
   "id": "bacb97fc-bd04-421b-a22f-8f1acf13b912",
   "metadata": {},
   "outputs": [],
   "source": [
    "linear_svm = LinearSVC().fit(X, y)\n",
    "print(\"계수 배열의 크기: \", linear_svm.coef_.shape)\n",
    "print(\"절편 배열의 크기: \", linear_svm.intercept_.shape)"
   ]
  },
  {
   "cell_type": "code",
   "execution_count": null,
   "id": "d051018e-9b7d-45c4-9416-9e009cd6cb87",
   "metadata": {},
   "outputs": [],
   "source": [
    "mglearn.discrete_scatter(X[:, 0], X[:, 1], y)\n",
    "line = np.linspace(-15, 15)\n",
    "for coef, intercept, color in zip(linear_svm.coef_, linear_svm.intercept_,\n",
    "                                  mglearn.cm3.colors):\n",
    "    plt.plot(line, -(line * coef[0] + intercept) / coef[1], c=color)\n",
    "plt.ylim(-10, 15)\n",
    "plt.xlim(-10, 8)\n",
    "plt.xlabel(\"특성 0\")\n",
    "plt.ylabel(\"특성 1\")\n",
    "plt.legend(['클래스 0', '클래스 1', '클래스 2', '클래스 0 경계', '클래스 1 경계',\n",
    "            '클래스 2 경계'], loc=(1.01, 0.3))\n"
   ]
  },
  {
   "cell_type": "code",
   "execution_count": null,
   "id": "c0c74a63-a36f-47fc-a6c0-a58a5c5b74f5",
   "metadata": {},
   "outputs": [],
   "source": [
    "mglearn.plots.plot_2d_classification(linear_svm, X, fill=True, alpha=.7)\n",
    "mglearn.discrete_scatter(X[:, 0], X[:, 1], y)\n",
    "line = np.linspace(-15, 15)\n",
    "for coef, intercept, color in zip(linear_svm.coef_, linear_svm.intercept_,\n",
    "                                  mglearn.cm3.colors):\n",
    "    plt.plot(line, -(line * coef[0] + intercept) / coef[1], c=color)\n",
    "plt.legend(['클래스 0', '클래스 1', '클래스 2', '클래스 0 경계', '클래스 1 경계',\n",
    "            '클래스 2 경계'], loc=(1.01, 0.3))\n",
    "plt.xlabel(\"특성 0\")\n",
    "plt.ylabel(\"특성 1\")\n"
   ]
  },
  {
   "cell_type": "markdown",
   "id": "2beda2e1-5f89-498c-9627-1bc83d89068f",
   "metadata": {},
   "source": [
    "#### 장단점과 매개변수"
   ]
  },
  {
   "cell_type": "code",
   "execution_count": null,
   "id": "91bdcff7-344c-41a0-bc39-c575f4582a9f",
   "metadata": {},
   "outputs": [],
   "source": [
    "# 한 줄에서 모델의 객체를 생성과 학습을 한번에 실행합니다\n",
    "logreg = LogisticRegression(max_iter=5000).fit(X_train, y_train)"
   ]
  },
  {
   "cell_type": "code",
   "execution_count": null,
   "id": "68edd4de-35b7-4cf2-be42-fe3b03245aaa",
   "metadata": {},
   "outputs": [],
   "source": [
    "logreg = LogisticRegression(max_iter=5000)\n",
    "y_pred = logreg.fit(X_train, y_train).predict(X_test)"
   ]
  },
  {
   "cell_type": "code",
   "execution_count": null,
   "id": "1be45046-3647-4d19-93c8-f974d707275a",
   "metadata": {},
   "outputs": [],
   "source": [
    "y_pred = LogisticRegression(max_iter=5000).fit(X_train, y_train).predict(X_test)"
   ]
  },
  {
   "cell_type": "markdown",
   "id": "68f96687-e512-4572-acc8-6a17404e9bb3",
   "metadata": {},
   "source": [
    "#### SGDClassifier와 SDGRegressor"
   ]
  },
  {
   "cell_type": "code",
   "execution_count": null,
   "id": "9d548bc5-687e-461a-a1d1-99014e2dbb93",
   "metadata": {},
   "outputs": [],
   "source": [
    "from sklearn.linear_model import SGDClassifier\n",
    "\n",
    "sgd_c = SGDClassifier(alpha=0.01, learning_rate='adaptive', \n",
    "                      eta0=0.1, random_state=42, n_jobs=-1)\n",
    "sgd_c.fit(X, y)\n",
    "\n",
    "mglearn.plots.plot_2d_classification(sgd_c, X, fill=True, alpha=.7)\n",
    "mglearn.discrete_scatter(X[:, 0], X[:, 1], y)\n",
    "line = np.linspace(-15, 15)\n",
    "for coef, intercept, color in zip(sgd_c.coef_, sgd_c.intercept_,\n",
    "                                  mglearn.cm3.colors):\n",
    "    plt.plot(line, -(line * coef[0] + intercept) / coef[1], c=color)\n",
    "plt.legend(['클래스 0', '클래스 1', '클래스 2', '클래스 0 경계', '클래스 1 경계',\n",
    "            '클래스 2 경계'], loc=(1.01, 0.3))\n",
    "plt.xlabel(\"특성 0\")\n",
    "plt.ylabel(\"특성 1\")\n",
    "plt.show()"
   ]
  },
  {
   "cell_type": "code",
   "execution_count": null,
   "id": "57dc5196-0483-4341-a8ef-4916f916e296",
   "metadata": {},
   "outputs": [],
   "source": [
    "from sklearn.linear_model import SGDRegressor\n",
    "\n",
    "X, y = mglearn.datasets.load_extended_boston()\n",
    "X_train, X_test, y_train, y_test = train_test_split(X, y, random_state=0)\n",
    "\n",
    "sgd_r = SGDRegressor(learning_rate='adaptive', eta0=0.1, random_state=42)\n",
    "sgd_r.fit(X_train, y_train)\n",
    "\n",
    "print(\"훈련 세트 점수: {:.2f}\".format(sgd_r.score(X_train, y_train)))\n",
    "print(\"테스트 세트 점수: {:.2f}\".format(sgd_r.score(X_test, y_test)))"
   ]
  }
 ],
 "metadata": {
  "kernelspec": {
   "display_name": "ml",
   "language": "python",
   "name": "ml"
  },
  "language_info": {
   "codemirror_mode": {
    "name": "ipython",
    "version": 3
   },
   "file_extension": ".py",
   "mimetype": "text/x-python",
   "name": "python",
   "nbconvert_exporter": "python",
   "pygments_lexer": "ipython3",
   "version": "3.8.12"
  }
 },
 "nbformat": 4,
 "nbformat_minor": 5
}
