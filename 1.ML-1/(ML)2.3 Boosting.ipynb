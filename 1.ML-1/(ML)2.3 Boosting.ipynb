{
 "cells": [
  {
   "cell_type": "code",
   "execution_count": null,
   "id": "142486b7-614a-46f9-9847-de5e1d525568",
   "metadata": {},
   "outputs": [],
   "source": [
    "import sklearn\n",
    "from preamble import *\n",
    "import matplotlib\n",
    "\n",
    "# 나눔 폰트를 사용합니다.\n",
    "matplotlib.rc('font', family='NanumBarunGothic')\n",
    "matplotlib.rcParams['axes.unicode_minus'] = False\n"
   ]
  },
  {
   "cell_type": "markdown",
   "id": "c37b56a3-c145-41d9-8b65-0e8551cc8c87",
   "metadata": {
    "tags": []
   },
   "source": [
    "### 2.3.5 결정 트리"
   ]
  },
  {
   "cell_type": "markdown",
   "id": "1bfe551c-617c-4147-a4d8-debd92028af4",
   "metadata": {},
   "source": [
    "#### 결정 트리 만들기"
   ]
  },
  {
   "cell_type": "code",
   "execution_count": null,
   "id": "4f88dde7-106b-417b-9091-f9f96fc77170",
   "metadata": {
    "hide_input": false
   },
   "outputs": [],
   "source": [
    "mglearn.plots.plot_tree_progressive()"
   ]
  },
  {
   "cell_type": "markdown",
   "id": "f3dee1b2-0791-416d-85f6-c20e06e990ac",
   "metadata": {},
   "source": [
    "#### 결정 트리의 복잡도 제어하기"
   ]
  },
  {
   "cell_type": "code",
   "execution_count": null,
   "id": "45096b42-3fe6-4a4f-8e80-d4186685309d",
   "metadata": {
    "uuid": "6e5d7a76-9bba-42f7-b26e-907775d289b2"
   },
   "outputs": [],
   "source": [
    "from sklearn.tree import DecisionTreeClassifier\n",
    "from sklearn.datasets import load_breast_cancer\n",
    "\n",
    "cancer = load_breast_cancer()"
   ]
  },
  {
   "cell_type": "markdown",
   "id": "57a47b37-225d-4efe-b3a0-705957c09888",
   "metadata": {},
   "source": [
    "#### 트리 깊이 제한없이 생성"
   ]
  },
  {
   "cell_type": "code",
   "execution_count": null,
   "id": "eb7f1d0c-265a-4269-ae8d-0ac8ed963e57",
   "metadata": {
    "uuid": "6e5d7a76-9bba-42f7-b26e-907775d289b2"
   },
   "outputs": [],
   "source": [
    "from sklearn.model_selection import train_test_split\n",
    "\n",
    "X_train, X_test, y_train, y_test = train_test_split(\n",
    "    cancer.data, cancer.target, stratify=cancer.target, random_state=42)\n",
    "tree = DecisionTreeClassifier(random_state=0)\n",
    "tree.fit(X_train, y_train)\n",
    "print(\"훈련 세트 정확도: {:.3f}\".format(tree.score(X_train, y_train)))\n",
    "print(\"테스트 세트 정확도: {:.3f}\".format(tree.score(X_test, y_test)))"
   ]
  },
  {
   "cell_type": "markdown",
   "id": "6e158f11-e565-4b25-9ccd-1e72df3807c8",
   "metadata": {},
   "source": [
    "##### 트리 깊이 4로 제한"
   ]
  },
  {
   "cell_type": "code",
   "execution_count": null,
   "id": "9b3a6a7a-55ee-4744-aec1-47d3bba44916",
   "metadata": {
    "scrolled": true
   },
   "outputs": [],
   "source": [
    "tree = DecisionTreeClassifier(max_depth=4, random_state=0)\n",
    "tree.fit(X_train, y_train)\n",
    "\n",
    "print(\"훈련 세트 정확도: {:.3f}\".format(tree.score(X_train, y_train)))\n",
    "print(\"테스트 세트 정확도: {:.3f}\".format(tree.score(X_test, y_test)))"
   ]
  },
  {
   "cell_type": "markdown",
   "id": "87c23cb8-4d8a-45af-9d99-fed1d39003e8",
   "metadata": {},
   "source": [
    "#### 결정 트리 분석"
   ]
  },
  {
   "cell_type": "code",
   "execution_count": null,
   "id": "5ff6333d-55a8-4943-8beb-da7c6aadf273",
   "metadata": {},
   "outputs": [],
   "source": [
    "# from sklearn.tree import export_graphviz\n",
    "# export_graphviz(tree, out_file=\"tree.dot\", class_names=[\"악성\", \"양성\"],\n",
    "#                 feature_names=cancer.feature_names, impurity=False, filled=True)"
   ]
  },
  {
   "cell_type": "code",
   "execution_count": null,
   "id": "5a748cd5-4fc7-441c-ac4b-d6a082b6e6cb",
   "metadata": {},
   "outputs": [],
   "source": [
    "# import graphviz\n",
    "\n",
    "# with open(\"tree.dot\") as f:\n",
    "#     dot_graph = f.read()\n",
    "# display(graphviz.Source(dot_graph))"
   ]
  },
  {
   "cell_type": "code",
   "execution_count": null,
   "id": "0d06eedb-5f33-4f1f-8b4c-c495234b08ca",
   "metadata": {},
   "outputs": [],
   "source": [
    "from sklearn.tree import plot_tree\n",
    "plt.figure(figsize=(12,6))\n",
    "plot_tree(tree, class_names=[\"악성\", \"양성\"], feature_names=cancer.feature_names,\n",
    "         impurity=False, filled=True, rounded=True, fontsize=10)\n",
    "plt.show()"
   ]
  },
  {
   "cell_type": "markdown",
   "id": "1799817d-db15-4cdd-aec2-51ff0eeff17f",
   "metadata": {},
   "source": [
    "#### 트리의 특성 중요도"
   ]
  },
  {
   "cell_type": "code",
   "execution_count": null,
   "id": "8de55156-97e9-43e9-ad3f-e788dcf0aba1",
   "metadata": {
    "uuid": "dc2f68ee-0df0-47ed-b500-7ec99d5a0a5d"
   },
   "outputs": [],
   "source": [
    "print(\"특성 중요도:\\n\", tree.feature_importances_)"
   ]
  },
  {
   "cell_type": "code",
   "execution_count": null,
   "id": "25dea031-3e47-4927-bcb8-be688c99128c",
   "metadata": {},
   "outputs": [],
   "source": [
    "def plot_feature_importances_cancer(model):\n",
    "    n_features = cancer.data.shape[1]\n",
    "    plt.barh(np.arange(n_features), model.feature_importances_, align='center')\n",
    "    plt.yticks(np.arange(n_features), cancer.feature_names)\n",
    "    plt.xlabel(\"특성 중요도\")\n",
    "    plt.ylabel(\"특성\")\n",
    "    plt.ylim(-1, n_features)\n",
    "\n",
    "plot_feature_importances_cancer(tree)"
   ]
  },
  {
   "cell_type": "code",
   "execution_count": null,
   "id": "19fdc052-a124-4dcc-b753-1deaac72e8d7",
   "metadata": {
    "hide_input": false
   },
   "outputs": [],
   "source": [
    "# mglearn.plots.plot_tree_not_monotone()"
   ]
  },
  {
   "cell_type": "code",
   "execution_count": null,
   "id": "8d0eee7d-2888-4512-a0cf-6fb3f10578c7",
   "metadata": {},
   "outputs": [],
   "source": [
    "import matplotlib as mpl  # ‘-’ 기호 깨지는 문제 해결\n",
    "import matplotlib.pyplot as plt\n",
    "mpl.rcParams['axes.unicode_minus'] = False\n",
    "import os\n",
    "ram_prices = pd.read_csv(os.path.join(mglearn.datasets.DATA_PATH, \"ram_price.csv\"))\n",
    "\n",
    "plt.yticks(fontname = \"DejaVu Sans\") # 한글 폰트가 지수에 음수를 표시하지 못하므로 ytick의 폰트를 바꾸어 줍니다.\n",
    "plt.semilogy(ram_prices.date, ram_prices.price)\n",
    "plt.xlabel(\"년\")\n",
    "plt.ylabel(\"가격 ($/Mbyte)\")\n"
   ]
  },
  {
   "cell_type": "code",
   "execution_count": null,
   "id": "4e77ba64-ee77-402b-ad5c-fdc5455fb4e6",
   "metadata": {},
   "outputs": [],
   "source": [
    "from sklearn.tree import DecisionTreeRegressor\n",
    "from sklearn.linear_model import LinearRegression\n",
    "\n",
    "# 2000년 이전을 훈련 데이터로, 2000년 이후를 테스트 데이터로 만듭니다\n",
    "data_train = ram_prices[ram_prices.date < 2000]\n",
    "data_test = ram_prices[ram_prices.date >= 2000]\n",
    "\n",
    "# 가격 예측을 위해 날짜 특성만을 이용합니다\n",
    "X_train = data_train.date.to_numpy()[:, np.newaxis]\n",
    "# 데이터와 타깃 사이의 관계를 간단하게 만들기 위해 로그 스케일로 바꿉니다\n",
    "y_train = np.log(data_train.price)\n",
    "\n",
    "tree = DecisionTreeRegressor().fit(X_train, y_train)\n",
    "linear_reg = LinearRegression().fit(X_train, y_train)\n",
    "\n",
    "# 예측은 전체 기간에 대해서 수행합니다\n",
    "X_all = ram_prices.date.to_numpy()[:, np.newaxis]\n",
    "\n",
    "pred_tree = tree.predict(X_all)\n",
    "pred_lr = linear_reg.predict(X_all)\n",
    "\n",
    "# 예측한 값의 로그 스케일을 되돌립니다\n",
    "price_tree = np.exp(pred_tree)\n",
    "price_lr = np.exp(pred_lr)"
   ]
  },
  {
   "cell_type": "code",
   "execution_count": null,
   "id": "4a2bebb1-b66b-4f2b-8d74-0a7bdcbe5505",
   "metadata": {},
   "outputs": [],
   "source": [
    "plt.yticks(fontname = \"DejaVu Sans\") # 한글 폰트가 지수에 음수를 표시하지 못하므로 ytick의 폰트를 바꾸어 줍니다.\n",
    "plt.semilogy(data_train.date, data_train.price, label=\"훈련 데이터\")\n",
    "plt.semilogy(data_test.date, data_test.price, label=\"테스트 데이터\")\n",
    "plt.semilogy(ram_prices.date, price_tree, label=\"트리 예측\")\n",
    "plt.semilogy(ram_prices.date, price_lr, label=\"선형회귀 예측\")\n",
    "plt.legend()\n"
   ]
  },
  {
   "cell_type": "markdown",
   "id": "ae91a322-a5c0-49d2-a038-ab03f3dabc1a",
   "metadata": {},
   "source": [
    "#### 장단점과 매개변수"
   ]
  },
  {
   "cell_type": "markdown",
   "id": "89522ddd-40cf-4bdf-bd40-de1d64bf511c",
   "metadata": {},
   "source": [
    "#### 판다스 데이터 프레임 연동"
   ]
  },
  {
   "cell_type": "code",
   "execution_count": null,
   "id": "aa586140-cdef-4e4b-bbb5-c6eb1557fc84",
   "metadata": {
    "scrolled": true
   },
   "outputs": [],
   "source": [
    "tree.fit(data_train[['date']], y_train)\n",
    "\n",
    "print('특성 개수:', tree.n_features_in_)\n",
    "print('특성 이름:', tree.feature_names_in_)"
   ]
  },
  {
   "cell_type": "markdown",
   "id": "b23f365b-5417-4829-b015-260c6b173835",
   "metadata": {},
   "source": [
    "### 2.3.6 결정 트리의 앙상블\n",
    "#### 랜덤 포레스트\n",
    "##### 랜덤 포레스트 구축\n",
    "##### 랜덤 포레스트 분석 - 5개의 트리를 생성하고 Random Forest로 종합."
   ]
  },
  {
   "cell_type": "code",
   "execution_count": null,
   "id": "c13b8fa0-783a-4311-b35d-234501d3133d",
   "metadata": {
    "uuid": "b84dcdfe-994f-4a3d-842e-830153eefc59"
   },
   "outputs": [],
   "source": [
    "from sklearn.ensemble import RandomForestClassifier\n",
    "from sklearn.datasets import make_moons\n",
    "\n",
    "X, y = make_moons(n_samples=100, noise=0.25, random_state=3)\n",
    "X_train, X_test, y_train, y_test = train_test_split(X, y, stratify=y, random_state=42)\n",
    "\n",
    "forest = RandomForestClassifier(n_estimators=5, random_state=2)\n",
    "forest.fit(X_train, y_train)"
   ]
  },
  {
   "cell_type": "code",
   "execution_count": null,
   "id": "017f18a9-540b-43a9-899f-3cfd7ce97772",
   "metadata": {
    "uuid": "76ce4154-b441-475e-97e3-1b507964eb29"
   },
   "outputs": [],
   "source": [
    "fig, axes = plt.subplots(2, 3, figsize=(20, 10))\n",
    "for i, (ax, tree) in enumerate(zip(axes.ravel(), forest.estimators_)):\n",
    "    ax.set_title(\"트리 {}\".format(i))\n",
    "    mglearn.plots.plot_tree_partition(X, y, tree, ax=ax)\n",
    "\n",
    "mglearn.plots.plot_2d_separator(forest, X, fill=True, ax=axes[-1, -1], alpha=.4)\n",
    "axes[-1, -1].set_title(\"랜덤 포레스트\")\n",
    "mglearn.discrete_scatter(X[:, 0], X[:, 1], y)\n"
   ]
  },
  {
   "cell_type": "code",
   "execution_count": null,
   "id": "ce55a281-ffff-4d59-974a-1d7ad6240693",
   "metadata": {},
   "outputs": [],
   "source": [
    "X_train, X_test, y_train, y_test = train_test_split(\n",
    "    cancer.data, cancer.target, random_state=0)\n",
    "forest = RandomForestClassifier(n_estimators=100, random_state=0)\n",
    "forest.fit(X_train, y_train)\n",
    "\n",
    "print(\"훈련 세트 정확도: {:.3f}\".format(forest.score(X_train, y_train)))\n",
    "print(\"테스트 세트 정확도: {:.3f}\".format(forest.score(X_test, y_test)))"
   ]
  },
  {
   "cell_type": "code",
   "execution_count": null,
   "id": "c9a734f0-a379-4f17-be18-84ddc58e360e",
   "metadata": {},
   "outputs": [],
   "source": [
    "plot_feature_importances_cancer(forest)"
   ]
  },
  {
   "cell_type": "markdown",
   "id": "22a4cef7-93ef-4ac9-9020-e1db45682d5c",
   "metadata": {},
   "source": [
    "##### 장단점과 매개변수"
   ]
  },
  {
   "cell_type": "markdown",
   "id": "067bb598-5cb2-433c-9cb6-185dd1b493c3",
   "metadata": {},
   "source": [
    "### AdaBoost"
   ]
  },
  {
   "cell_type": "markdown",
   "id": "ba9fae64-0bab-41cf-bfc8-7648c678e4b7",
   "metadata": {},
   "source": [
    "##### 트리 5개로 moon data 분류모델 생성"
   ]
  },
  {
   "cell_type": "code",
   "execution_count": null,
   "id": "8613b9d0-69be-4565-a02e-a9e2114a9eef",
   "metadata": {
    "tags": []
   },
   "outputs": [],
   "source": [
    "from sklearn.ensemble import AdaBoostClassifier\n",
    "ada = AdaBoostClassifier(n_estimators=5, random_state=42)\n",
    "\n",
    "Xm, ym = make_moons(n_samples=100, noise=0.25, random_state=3)\n",
    "Xm_train, Xm_test, ym_train, ym_test = train_test_split(\n",
    "    Xm, ym, stratify=ym, random_state=42)\n",
    "\n",
    "ada.fit(Xm_train, ym_train)\n",
    "\n",
    "fig, axes = plt.subplots(2, 3, figsize=(20, 10))\n",
    "for i, (ax, tree) in enumerate(zip(axes.ravel(), ada.estimators_)):\n",
    "    ax.set_title(\"Tree {}\".format(i))\n",
    "    mglearn.plots.plot_tree_partition(Xm, ym, tree, ax=ax)\n",
    "    \n",
    "mglearn.plots.plot_2d_separator(ada, Xm, fill=True, ax=axes[-1, -1], alpha=.4)\n",
    "axes[-1, -1].set_title(\"AdaBoost\")\n",
    "mglearn.discrete_scatter(Xm[:, 0], Xm[:, 1], ym)\n",
    "plt.show()"
   ]
  },
  {
   "cell_type": "markdown",
   "id": "84934026-e7c0-421b-a5d9-4b8afc43062c",
   "metadata": {},
   "source": [
    "##### 트리 100 개로 암데이타 분류모델 생성"
   ]
  },
  {
   "cell_type": "code",
   "execution_count": null,
   "id": "3ecf6f5c-c518-4e3a-bdcf-92005ac79280",
   "metadata": {
    "scrolled": true,
    "tags": []
   },
   "outputs": [],
   "source": [
    "ada = AdaBoostClassifier(n_estimators=100, random_state=42)\n",
    "\n",
    "cancer = load_breast_cancer()\n",
    "Xc_train, Xc_test, yc_train, yc_test = train_test_split(\n",
    "    cancer.data, cancer.target, random_state=0)\n",
    "\n",
    "ada.fit(Xc_train, yc_train)\n",
    "\n",
    "print(\"훈련 세트 정확도: {:.3f}\".format(ada.score(Xc_train, yc_train)))\n",
    "print(\"테스트 세트 정확도: {:.3f}\".format(ada.score(Xc_test, yc_test)))"
   ]
  },
  {
   "cell_type": "code",
   "execution_count": null,
   "id": "17cf92c6-9c33-489f-875c-1e124b4d8802",
   "metadata": {
    "tags": []
   },
   "outputs": [],
   "source": [
    "n_features = cancer.data.shape[1]\n",
    "\n",
    "plt.barh(range(n_features), ada.feature_importances_, align='center')\n",
    "plt.yticks(np.arange(n_features), cancer.feature_names)\n",
    "plt.xlabel(\"Feature Importance\")\n",
    "plt.ylabel(\"Features\")\n",
    "plt.ylim(-1, n_features)\n",
    "plt.show()"
   ]
  },
  {
   "cell_type": "markdown",
   "id": "d2960006-c134-4ca4-809d-eb98caa39891",
   "metadata": {},
   "source": [
    "### Gradient Boosting"
   ]
  },
  {
   "cell_type": "markdown",
   "id": "e95bf8de-ac16-4d35-a9d8-6af37d5b01de",
   "metadata": {},
   "source": [
    "##### 암데이타에 기본값으로 적용."
   ]
  },
  {
   "cell_type": "code",
   "execution_count": null,
   "id": "61b49fb9-77fb-4a06-9c4e-b42f39ac9e89",
   "metadata": {},
   "outputs": [],
   "source": [
    "from sklearn.ensemble import GradientBoostingClassifier\n",
    "\n",
    "X_train, X_test, y_train, y_test = train_test_split(\n",
    "    cancer.data, cancer.target, random_state=0)\n",
    "\n",
    "gbrt = GradientBoostingClassifier(random_state=0)\n",
    "gbrt.fit(X_train, y_train)\n",
    "\n",
    "print(\"훈련 세트 정확도: {:.3f}\".format(gbrt.score(X_train, y_train)))\n",
    "print(\"테스트 세트 정확도: {:.3f}\".format(gbrt.score(X_test, y_test)))"
   ]
  },
  {
   "cell_type": "markdown",
   "id": "b246373e-edfb-4b2d-8cca-f1ff590e5b5c",
   "metadata": {},
   "source": [
    "##### max_depth=1 적용"
   ]
  },
  {
   "cell_type": "code",
   "execution_count": null,
   "id": "38de9a9c-1f5f-4ae6-bc1e-2039e79d2629",
   "metadata": {},
   "outputs": [],
   "source": [
    "from sklearn.ensemble import GradientBoostingClassifier\n",
    "gbrt = GradientBoostingClassifier(random_state=0, max_depth=1)\n",
    "gbrt.fit(X_train, y_train)\n",
    "\n",
    "print(\"훈련 세트 정확도: {:.3f}\".format(gbrt.score(X_train, y_train)))\n",
    "print(\"테스트 세트 정확도: {:.3f}\".format(gbrt.score(X_test, y_test)))"
   ]
  },
  {
   "cell_type": "code",
   "execution_count": null,
   "id": "d4d1a8a2-ef5f-43b7-85ef-cb5978c36579",
   "metadata": {},
   "outputs": [],
   "source": [
    "gbrt = GradientBoostingClassifier(random_state=0, learning_rate=0.01)\n",
    "gbrt.fit(X_train, y_train)\n",
    "\n",
    "print(\"훈련 세트 정확도: {:.3f}\".format(gbrt.score(X_train, y_train)))\n",
    "print(\"테스트 세트 정확도: {:.3f}\".format(gbrt.score(X_test, y_test)))"
   ]
  },
  {
   "cell_type": "code",
   "execution_count": null,
   "id": "3879c8dc-94a8-40ca-90d0-5df100609353",
   "metadata": {},
   "outputs": [],
   "source": [
    "gbrt = GradientBoostingClassifier(random_state=0, max_depth=1)\n",
    "gbrt.fit(X_train, y_train)\n",
    "\n",
    "plot_feature_importances_cancer(gbrt)"
   ]
  },
  {
   "cell_type": "code",
   "execution_count": null,
   "id": "0e58f358-7d46-4fb5-b675-87be2b1169b0",
   "metadata": {},
   "outputs": [],
   "source": []
  },
  {
   "cell_type": "code",
   "execution_count": null,
   "id": "f7175a52-3dd2-423e-bf97-451732bdc33b",
   "metadata": {},
   "outputs": [],
   "source": []
  }
 ],
 "metadata": {
  "kernelspec": {
   "display_name": "ml",
   "language": "python",
   "name": "ml"
  },
  "language_info": {
   "codemirror_mode": {
    "name": "ipython",
    "version": 3
   },
   "file_extension": ".py",
   "mimetype": "text/x-python",
   "name": "python",
   "nbconvert_exporter": "python",
   "pygments_lexer": "ipython3",
   "version": "3.8.12"
  }
 },
 "nbformat": 4,
 "nbformat_minor": 5
}
