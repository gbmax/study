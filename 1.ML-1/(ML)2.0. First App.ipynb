{
 "cells": [
  {
   "cell_type": "code",
   "execution_count": null,
   "id": "6ef479ac-9346-4547-9dae-fd4e88a71b99",
   "metadata": {},
   "outputs": [],
   "source": []
  },
  {
   "cell_type": "markdown",
   "id": "762dd798-ee41-4e05-bff2-9a9831f021c0",
   "metadata": {
    "id": "rlP0gvBnCN3m"
   },
   "source": [
    "## 1.7 첫 번째 애플리케이션: 붓꽃의 품종 분류\n",
    "### 1.7.1 데이터 적재"
   ]
  },
  {
   "cell_type": "code",
   "execution_count": null,
   "id": "c2b6f7b1-a4ac-47d7-aaff-7073dbf0942e",
   "metadata": {},
   "outputs": [],
   "source": []
  },
  {
   "cell_type": "code",
   "execution_count": null,
   "id": "c00b2cd8-99aa-409d-8d68-0cc62ed056fa",
   "metadata": {
    "id": "NBiaD_jtCN3m",
    "scrolled": true
   },
   "outputs": [],
   "source": [
    "from sklearn.datasets import load_iris\n",
    "import numpy as np\n",
    "import pandas as pd\n",
    "import matplotlib.pyplot as plt\n",
    "import mglearn\n",
    "\n",
    "iris_dataset = load_iris()"
   ]
  },
  {
   "cell_type": "code",
   "execution_count": null,
   "id": "2d86c4fd-8cd1-4bd3-bf23-9347365140fa",
   "metadata": {
    "colab": {
     "base_uri": "https://localhost:8080/"
    },
    "id": "2UMBXHcjCN3m",
    "outputId": "56bff8f6-62fd-421f-b849-8752d3155482",
    "tags": []
   },
   "outputs": [],
   "source": [
    "print(\"iris_dataset의 키:\\n\", iris_dataset.keys())"
   ]
  },
  {
   "cell_type": "code",
   "execution_count": null,
   "id": "2a1cfa3d-5e5e-464d-8bcd-1a1218310241",
   "metadata": {
    "colab": {
     "base_uri": "https://localhost:8080/"
    },
    "id": "78TGXXoNCN3n",
    "outputId": "a75c6ff6-a29c-4fb6-941a-f0ea12e2be05",
    "scrolled": true
   },
   "outputs": [],
   "source": [
    "print(iris_dataset['DESCR'][:193] + \"\\n...\")"
   ]
  },
  {
   "cell_type": "code",
   "execution_count": null,
   "id": "11497588-7ba5-4ccb-92d3-fdcd46146be2",
   "metadata": {
    "colab": {
     "base_uri": "https://localhost:8080/"
    },
    "id": "PxtEHq63CN3n",
    "outputId": "c529d277-cc4f-4a5b-c087-02a9fea359a5"
   },
   "outputs": [],
   "source": [
    "print(\"타깃의 이름:\", iris_dataset['target_names'])"
   ]
  },
  {
   "cell_type": "code",
   "execution_count": null,
   "id": "75c439ca-b7c3-4317-b431-13f76074c52f",
   "metadata": {
    "colab": {
     "base_uri": "https://localhost:8080/"
    },
    "id": "PJliOqoCCN3n",
    "outputId": "195ca73c-8310-4010-94bc-fffa968664f1"
   },
   "outputs": [],
   "source": [
    "print(\"특성의 이름:\\n\", iris_dataset['feature_names'])"
   ]
  },
  {
   "cell_type": "code",
   "execution_count": null,
   "id": "74e1d8b7-67d2-448c-8c9f-129fbc5306a4",
   "metadata": {
    "colab": {
     "base_uri": "https://localhost:8080/"
    },
    "id": "5sN7xsQFCN3n",
    "outputId": "94769642-a47b-40ea-8b96-8a6ef4d4bf91"
   },
   "outputs": [],
   "source": [
    "print(\"data의 타입:\", type(iris_dataset['data']))"
   ]
  },
  {
   "cell_type": "code",
   "execution_count": null,
   "id": "b56a17ad-b405-41c0-b638-da8aa863477f",
   "metadata": {
    "colab": {
     "base_uri": "https://localhost:8080/"
    },
    "id": "77Em3vLlCN3n",
    "outputId": "a0d2857f-9035-4837-c8b5-40c833fa3992"
   },
   "outputs": [],
   "source": [
    "print(\"data의 크기:\", iris_dataset['data'].shape)"
   ]
  },
  {
   "cell_type": "code",
   "execution_count": null,
   "id": "0b87acea-2baa-4c0c-a513-1c6b72cdb366",
   "metadata": {
    "colab": {
     "base_uri": "https://localhost:8080/"
    },
    "id": "Eix8p25ACN3o",
    "outputId": "ebb39d2e-45bb-4ae7-f1fb-ba389c549edc"
   },
   "outputs": [],
   "source": [
    "print(\"data의 처음 다섯 행:\\n\", iris_dataset['data'][:5])"
   ]
  },
  {
   "cell_type": "code",
   "execution_count": null,
   "id": "23911aaa-cd2f-415b-b555-d7b2499787b0",
   "metadata": {
    "colab": {
     "base_uri": "https://localhost:8080/"
    },
    "id": "RGipvmv0CN3o",
    "outputId": "2ca94514-bec5-4eab-bc49-1ff665e9fe71"
   },
   "outputs": [],
   "source": [
    "print(\"target의 타입:\", type(iris_dataset['target']))"
   ]
  },
  {
   "cell_type": "code",
   "execution_count": null,
   "id": "94fab4bd-0b0f-4c80-9d4f-f0f5cf5a3d39",
   "metadata": {
    "colab": {
     "base_uri": "https://localhost:8080/"
    },
    "id": "Yy_GmKvtCN3o",
    "outputId": "1843dfd7-8175-4201-9ec9-b77b3ef594b7"
   },
   "outputs": [],
   "source": [
    "print(\"target의 크기:\", iris_dataset['target'].shape)"
   ]
  },
  {
   "cell_type": "code",
   "execution_count": null,
   "id": "6fb05957-2df6-4ded-ab16-7505a620cb80",
   "metadata": {
    "colab": {
     "base_uri": "https://localhost:8080/"
    },
    "id": "S47e9RFgCN3o",
    "outputId": "dac309c5-bdd6-4f65-f4b1-e99a99aa8645"
   },
   "outputs": [],
   "source": [
    "print(\"타깃:\\n\", iris_dataset['target'])"
   ]
  },
  {
   "cell_type": "markdown",
   "id": "7f55e416-83f1-441d-aa90-159b5c4cebad",
   "metadata": {
    "id": "i2RzRnNICN3o"
   },
   "source": [
    "### 1.7.2 성과 측정: 훈련 데이터와 테스트 데이터"
   ]
  },
  {
   "cell_type": "code",
   "execution_count": null,
   "id": "a8beba3f-db5e-4c8d-b317-033c642b8e38",
   "metadata": {
    "id": "pYi7UKK1CN3o"
   },
   "outputs": [],
   "source": [
    "from sklearn.model_selection import train_test_split\n",
    "X_train, X_test, y_train, y_test = train_test_split(\n",
    "    iris_dataset['data'], iris_dataset['target'], random_state=0)"
   ]
  },
  {
   "cell_type": "code",
   "execution_count": null,
   "id": "d56cfc92-cd91-4346-beb5-fa298825dc5c",
   "metadata": {
    "colab": {
     "base_uri": "https://localhost:8080/"
    },
    "id": "-Pu3BsVPCN3p",
    "outputId": "78cd0a04-d89f-46e0-8fae-88455776d1e8"
   },
   "outputs": [],
   "source": [
    "print(\"X_train 크기:\", X_train.shape)\n",
    "print(\"y_train 크기:\", y_train.shape)"
   ]
  },
  {
   "cell_type": "code",
   "execution_count": null,
   "id": "b7e87e73-906a-4280-b107-2b0e03159346",
   "metadata": {
    "colab": {
     "base_uri": "https://localhost:8080/"
    },
    "id": "D43d2Pu9CN3p",
    "outputId": "81da122e-c193-4e38-fcbf-1652ee9130f3"
   },
   "outputs": [],
   "source": [
    "print(\"X_test 크기:\", X_test.shape)\n",
    "print(\"y_test 크기:\", y_test.shape)"
   ]
  },
  {
   "cell_type": "markdown",
   "id": "36e8de15-7b80-4b04-970e-32c099b6595c",
   "metadata": {
    "id": "Y8vl5JVXCN3p"
   },
   "source": [
    "### 1.7.3 가장 먼저 할 일: 데이터 살펴보기"
   ]
  },
  {
   "cell_type": "code",
   "execution_count": null,
   "id": "5b7fb04f-8584-4c7b-9470-6565c9b1798f",
   "metadata": {
    "colab": {
     "base_uri": "https://localhost:8080/",
     "height": 1000
    },
    "id": "hBl7LWVzCN3p",
    "outputId": "07218e29-d8ab-43b6-fd7c-0d5f329c7cc2"
   },
   "outputs": [],
   "source": [
    "# X_train 데이터를 사용해서 데이터프레임을 만듭니다.\n",
    "# 열의 이름은 iris_dataset.feature_names에 있는 문자열을 사용합니다.\n",
    "iris_dataframe = pd.DataFrame(X_train, columns=iris_dataset.feature_names)\n",
    "# 데이터프레임을 사용해 y_train에 따라 색으로 구분된 산점도 행렬을 만듭니다.\n",
    "pd.plotting.scatter_matrix(iris_dataframe, c=y_train, figsize=(15, 15), marker='o',\n",
    "                           hist_kwds={'bins': 20}, s=60, alpha=.8, cmap=mglearn.cm3)\n",
    "plt.show() # 책에는 없음"
   ]
  },
  {
   "cell_type": "markdown",
   "id": "1218bbb8-bae9-4b66-9743-d0b2807269c3",
   "metadata": {
    "id": "EtOefn9pCN3q"
   },
   "source": [
    "### 1.7.4 첫 번째 머신 러닝 모델: k-최근접 이웃 알고리즘"
   ]
  },
  {
   "cell_type": "code",
   "execution_count": null,
   "id": "20846ee9-bfd6-450e-8852-2bbf19667fb7",
   "metadata": {
    "id": "MOXCy5YGCN3q"
   },
   "outputs": [],
   "source": [
    "from sklearn.neighbors import KNeighborsClassifier\n",
    "knn = KNeighborsClassifier(n_neighbors=1)"
   ]
  },
  {
   "cell_type": "code",
   "execution_count": null,
   "id": "5367efbb-101f-4d3f-bf36-bfdb2cc47d56",
   "metadata": {
    "colab": {
     "base_uri": "https://localhost:8080/"
    },
    "id": "lOI4LMFDCN3q",
    "outputId": "12773af3-3327-4343-f9ea-36a05b750f0e"
   },
   "outputs": [],
   "source": [
    "knn.fit(X_train, y_train)"
   ]
  },
  {
   "cell_type": "markdown",
   "id": "75f135b5-bcd8-4ccf-b835-c02da926be20",
   "metadata": {
    "id": "4GDYezDQCN3q"
   },
   "source": [
    "### 1.7.5 예측하기"
   ]
  },
  {
   "cell_type": "code",
   "execution_count": null,
   "id": "22f7083b-1018-4f32-99ec-96c97f180230",
   "metadata": {
    "colab": {
     "base_uri": "https://localhost:8080/"
    },
    "id": "4YVCNU8NCN3q",
    "outputId": "df1285b3-d7e0-4a22-df39-9f60722e99b4"
   },
   "outputs": [],
   "source": [
    "X_new = np.array([[5, 2.9, 1, 0.2]])\n",
    "print(\"X_new.shape:\", X_new.shape)"
   ]
  },
  {
   "cell_type": "code",
   "execution_count": null,
   "id": "df5c13d0-07dd-42bf-8ce9-145da9f59498",
   "metadata": {
    "colab": {
     "base_uri": "https://localhost:8080/"
    },
    "id": "El-9zcaKCN3q",
    "outputId": "7b344027-f1d8-4aa1-b919-34b256edd4c4"
   },
   "outputs": [],
   "source": [
    "prediction = knn.predict(X_new)\n",
    "print(\"예측:\", prediction)\n",
    "print(\"예측한 타깃의 이름:\", \n",
    "       iris_dataset['target_names'][prediction])"
   ]
  },
  {
   "cell_type": "markdown",
   "id": "1a339d98-9e07-4c4a-a3c7-5a6e93ecc001",
   "metadata": {
    "id": "3Qsym5KMCN3q"
   },
   "source": [
    "### 1.7.6 모델 평가하기"
   ]
  },
  {
   "cell_type": "code",
   "execution_count": null,
   "id": "ae998460-0c8c-436e-b26c-62f4125673f1",
   "metadata": {
    "colab": {
     "base_uri": "https://localhost:8080/"
    },
    "id": "moSUGtpjCN3r",
    "outputId": "328a07a2-465a-4207-b865-95948267c621"
   },
   "outputs": [],
   "source": [
    "y_pred = knn.predict(X_test)\n",
    "print(\"테스트 세트에 대한 예측값:\\n\", y_pred)"
   ]
  },
  {
   "cell_type": "code",
   "execution_count": null,
   "id": "2605baf2-9c51-4050-9748-5a94cb28d5a8",
   "metadata": {},
   "outputs": [],
   "source": [
    "iris_dataset['target_names'][y_pred]"
   ]
  },
  {
   "cell_type": "code",
   "execution_count": null,
   "id": "08e93745-ede4-4fad-b341-ac9f18bd6ea4",
   "metadata": {
    "colab": {
     "base_uri": "https://localhost:8080/"
    },
    "id": "vIAII-eKCN3r",
    "outputId": "ba1f0daf-e9e8-4ed8-b60d-73b1040bef7e",
    "tags": []
   },
   "outputs": [],
   "source": [
    "print(\"테스트 세트의 정확도: {:.2f}\".format(np.mean(y_pred == y_test)))"
   ]
  },
  {
   "cell_type": "code",
   "execution_count": null,
   "id": "7b8ee58f-9581-4653-a87c-7cbaf0d83d66",
   "metadata": {
    "colab": {
     "base_uri": "https://localhost:8080/"
    },
    "id": "B48pdu2mCN3r",
    "outputId": "e15a0b89-88e2-49ec-b8fa-99f511b11e56"
   },
   "outputs": [],
   "source": [
    "print(\"테스트 세트의 정확도: {:.2f}\".format(knn.score(X_test, y_test)))"
   ]
  },
  {
   "cell_type": "markdown",
   "id": "2aeb142b-4716-4dbc-b0b1-6fb1bb42a69a",
   "metadata": {
    "id": "n7HLWX73CN3r"
   },
   "source": [
    "## 1.8 요약"
   ]
  },
  {
   "cell_type": "code",
   "execution_count": null,
   "id": "a2ecb08e-8a6f-4aca-b238-a8d7a5de9ea0",
   "metadata": {
    "colab": {
     "base_uri": "https://localhost:8080/"
    },
    "id": "nNkZ5MxPCN3r",
    "outputId": "3e669439-642f-4962-faa0-4a6cd12fbbf1"
   },
   "outputs": [],
   "source": [
    "X_train, X_test, y_train, y_test = train_test_split(\n",
    "    iris_dataset['data'], iris_dataset['target'], random_state=0)\n",
    "\n",
    "knn = KNeighborsClassifier(n_neighbors=1)\n",
    "knn.fit(X_train, y_train)\n",
    "\n",
    "print(\"테스트 세트의 정확도: {:.2f}\".format(knn.score(X_test, y_test)))"
   ]
  },
  {
   "cell_type": "code",
   "execution_count": null,
   "id": "d7211a34-6020-48e8-b3dd-9f0537412bce",
   "metadata": {},
   "outputs": [],
   "source": []
  }
 ],
 "metadata": {
  "kernelspec": {
   "display_name": "ml",
   "language": "python",
   "name": "ml"
  },
  "language_info": {
   "codemirror_mode": {
    "name": "ipython",
    "version": 3
   },
   "file_extension": ".py",
   "mimetype": "text/x-python",
   "name": "python",
   "nbconvert_exporter": "python",
   "pygments_lexer": "ipython3",
   "version": "3.8.12"
  }
 },
 "nbformat": 4,
 "nbformat_minor": 5
}
